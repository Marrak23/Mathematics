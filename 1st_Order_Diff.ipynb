{
 "cells": [
  {
   "cell_type": "markdown",
   "metadata": {
    "colab_type": "text"
   },
  "source": [
    "# First order differential equations\n",
    "\n",
    "In the following, we solve the following 1st order inhomogenous differential equation using Python's scipy Library. Let $A\\in \\mathbb{C}^{n \\times n}$ with $n\\in \\mathbb{N}$\n",
    "\n",
    "$\\begin{align}\n",
    "\\frac{\\partial^{n} }{\\partial t^{n} }x(t) = A \\, x(t) + u(t)",
    "\\end{align}$\n",
    "\n",
    "## Homogenous part\n",
    "\n",
    "The following code solves the following homogenous part of the equation:\n",
    },
    {
    "cell_type": "code",
    "execution_count": null,
    "metadata": {},
    "outputs": [],
    "source": [
    "from pyscf import gto\n",
    "import numpy as np\n",
    "mol = gto.M(atom='He 0 0 0', basis='6-31g')\n",
    "One_e = mol.intor('int1e_ovlp', aosym='1')\n",
    "print(One_e)"
     ]
    },
    {
    "cell_type": "markdown",
    "metadata": {},
    "source": [
    "\n",
    "$\\begin{align}\n",
    "\\frac{\\partial^{n} }{\\partial t^{n} }x(t) = A \\, x(t) \\\\\n",
    "\n",
    "\\end{align}$ \n",
    "\n",
    "Which was to be shown. \n",
    "\n",
    "## Inhomogenous part\n",
    "This part solves the inhomogenous part of the equation.\n",
    "\n",
    "which was to be shown."
   ]
  }
 ],
 "metadata": {},
 "nbformat": 4,
 "nbformat_minor": 1
}
