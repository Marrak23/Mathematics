{
  "cells": [
    {
      "cell_type": "markdown",
      "metadata": {
        "colab_type": "text"
      },
      "source": [
        "# First order differential equations\n",
        "\n",
        "In the following, we solve the following 1st order inhomogeneous differential equation using Python's scipy Library. Let $A\\in \\mathbb{C}^{n \\times n}$ with $n\\in \\mathbb{N}$\n",
        "\n",
        "$\\begin{align}\n",
        "\\frac{\\partial }{\\partial t}x(t) = A \\, x(t) + u(t)",
        "\\end{align}$\n",
        "\n",
        "## Homogeneous part\n",
        "\n",
        "The following equation denotes the homogeneous part of the equation:\n",
        "\n",
        "$\\begin{align} \\label{eq: Homogenous}\n",
        "\\frac{\\partial }{\\partial t}x(t) = A \\, x(t) \\\\\n",
        "\n",
        "\\end{align}$ \n",
        "\n",
        "And the following code solves it:"
      ]
    },
    {
      "cell_type": "markdown",
      "metadata": {},
      "source": [
        "### Loading Necessary Modules\n",
        "This code snippet loads essential Python libraries needed for our calculations."
      ]
    },
    {
      "cell_type": "code",
      "metadata": {},
      "source": [
        "# Load the modules\n",
        "from scipy.linalg import eig\n",
        "import numpy as np\n",
        "import sympy as sp"
      ],
      "execution_count": 1,
      "outputs": []
    },
    {
      "cell_type": "markdown",
      "metadata": {},
      "source": [
        "### Defining and Analyzing the System\n",
        "Define the function solver for homogenous systems."
      ]
    },
    {
    "cell_type": "code",
    "metadata": {},
    "source": [
        "def analyse_system(A):\n",
        "    t = sp.symbols('t', real=True)                  # Define symbolic time\n",
        "    eigenvalues, eigenvectors = eig(A, right=True)  # Calculate Eigenvalues and -vectors\n",
        "\n",
        "    # Adjust eigenvectors to scale the first non-zero element to 1\n",
        "    for i in range(eigenvectors.shape[1]):\n",
        "        vec = eigenvectors[:, i]\n",
        "        non_zero_index = np.nonzero(vec)[0][0]      # Find the first non-zero index\n",
        "        eigenvectors[:, i] /= vec[non_zero_index]   # Scale by the first non-zero element\n",
        "\n",
        "    # Handle multiplicity\n",
        "    unique_eigenvalues, unique_indices, Total = np.unique(eigenvalues, return_index=True, return_counts=True)\n",
        "\n",
        "    print(\"Eigenvalues and their eigenvectors, respectively:\")\n",
        "    ci_count = 1  # Counter for constants\n",
        "    Solution_terms = []\n",
        "    stability = \"stable\"\n",
        "    constant_terms = []  # To store constant descriptions\n",
        "    for i, eigenvalue in enumerate(unique_eigenvalues):\n",
        "        multiplicity = Total[i]\n",
        "        lambda_real = round(np.real(eigenvalue), 3)  # Real part of the eigenvalue\n",
        "        lambda_imag = round(np.imag(eigenvalue), 3)  # Imaginary part of the eigenvalue\n",
        "        eigenvector = eigenvectors[:, unique_indices[i]]\n",
        "        Rounded_eigenvector = tuple(np.round(np.real(v), 3) for v in eigenvector)  # Round each component\n",
        "\n",
        "        print(f\"Eigenvalue {i+1} ({np.round(eigenvalue, 3)}): Multiplicity {multiplicity}, Eigenvector {i+1}: Vector {Rounded_eigenvector}\")\n",
        "\n",
        "        if lambda_real > 0:\n",
        "            stability = \"unstable\"\n",
        "        elif lambda_real == 0:\n",
        "            if stability != \"unstable\":\n",
        "                stability = \"stable, but not asymptotically stable\"\n",
        "        else:\n",
        "            if stability != \"unstable\" and stability != \"stable, but not asymptotically stable\":\n",
        "                stability = \"asymptotically stable\"\n",
        "\n",
        "        # Generate terms for the homogeneous solution\n",
        "        for j in range(multiplicity):\n",
        "            ci = sp.symbols(f'c{ci_count}', real=True)\n",
        "            # Handle t power formatting\n",
        "            if j > 1:\n",
        "                t_potens = f\"t**{j}\"\n",
        "            elif j == 1:\n",
        "                t_potens = \"t\"\n",
        "            else:\n",
        "                t_potens = \"\"\n",
        "\n",
        "            # Form the homogeneous solution term for different cases\n",
        "            if lambda_imag == 0:  # Real eigenvalue case\n",
        "                term = f\"{ci} * Vektor{Rounded_eigenvector} {t_potens}\".strip()\n",
        "                if lambda_real != 0:  # Include the exponential term if lambda_real is non-zero\n",
        "                    if lambda_real == 1:  # Format as exp(t)\n",
        "                        exp_term = \"exp(t)\"\n",
        "                    elif lambda_real == -1:  # Format as exp(-t)\n",
        "                        exp_term = \"exp(-t)\"\n",
        "                    else:\n",
        "                        exp_term = f\"exp({lambda_real} * t)\"\n",
        "                    term += f\" * {exp_term}\"\n",
        "            else:  # Complex eigenvalue case\n",
        "                omega = abs(lambda_imag)\n",
        "                # Format the cosine term properly for 1 or -1 cases\n",
        "                if omega == 1:\n",
        "                    cos_term = \"cos(t)\"\n",
        "                elif omega == -1:\n",
        "                    cos_term = \"cos(-t)\"\n",
        "                else:\n",
        "                    cos_term = f\"cos({omega} * t)\"\n",
        "\n",
        "                # Always include the exponential term for the real part of the eigenvalue\n",
        "                if lambda_real != 0:\n",
        "                    if lambda_real == 1:  # Format as exp(t)\n",
        "                        exp_term = \"exp(t)\"\n",
        "                    elif lambda_real == -1:  # Format as exp(-t)\n",
        "                        exp_term = \"exp(-t)\"\n",
        "                    else:\n",
        "                        exp_term = f\"exp({lambda_real} * t)\"\n",
        "                    term = f\"{ci} * Vektor{Rounded_eigenvector} {t_potens} * {exp_term} * {cos_term}\".strip()\n",
        "                else:\n",
        "                    term = f\"{ci} * Vektor{Rounded_eigenvector} {t_potens} * {cos_term}\".strip()\n",
        "\n",
        "            # Clean up formatting (remove redundant spaces, handle 1.0 coefficients)\n",
        "            term = term.replace(\" 1.0 \", \" \").replace(\" -1.0 \", \"-\").replace(\" * \", \" \").strip()\n",
        "            Solution_terms.append(term)\n",
        "            constant_terms.append(f\"c{ci_count} (real number)\")  # Add constant description\n",
        "            ci_count += 1  # Increment counter per iteration\n",
        "\n",
        "    print()  # Newline\n",
        "    # Output the homogeneous solution\n",
        "    solution_string = \" + \".join(Solution_terms).replace(\"  \", \" \")\n",
        "    constants_description = \", \".join(constant_terms)  # Describe the constants\n",
        "    print(f\"Homogeneous solution: y_h(t) = {solution_string}\")\n",
        "    print(f\"Constants: {constants_description}\")  # Print constants as real numbers\n",
        "    print()  # Newline\n",
        "    print(f\"Stability: The system is {stability}.\")"
    ],
    "execution_count": 2,
    "outputs": []
    }
     {
      "cell_type": "markdown",
      "metadata": {},
      "source": [
        "### Define the matrix A and run the solver\n",
        "In our case, $\\begin{pmatrix} - 1 & 0 & 0 \\\\  0 & -1 & 0 \\\\ 0 & 0 & -1 \\end{pmatrix}$ was used as an example."
      ]
    },
    {
      "cell_type": "code",
      "metadata": {},
      "source": [
        "# Define the matrix A\n",
        "A = np.array([[-1, 0, 0], [0, -1, 0], [0, 0, -1]])\n",
        "\n",
        "# Analyse the system\n",
        "analyse_system(A)"
      ],
      "execution_count": 3,
      "outputs": [
        {
          "name": "stdout",
          "output_type": "stream",
          "text": [
            "Eigenvalues and their eigenvectors, respectively: \n",
            "Eigenvalue 1 ((-1+0j)): Multiplicity 3, Eigenvektor 1: Vector(1.0, 0.0, 0.0)\n",
            "\n",
            "Homogeneous solution: y_h(t) = c1 Vector(1.0, 0.0, 0.0) exp(-1.0 t) + c2 Vector(1.0, 0.0, 0.0) t exp(-1.0 t) + c3 Vector(1.0, 0.0, 0.0) t**2 exp(-1.0 t) \n",
            "Constants: c1 (real number), c2 (real number), c3 (real number) \n",
            "\n",
            "Stability: The system is asymptotically stable.\n"
          ]
        }
      ]
    },
    {
      "cell_type": "markdown",
      "metadata": {},
      "source": [
        "### Define the matrix A and run the solver\n",
        "In this case, $\\begin{pmatrix} 1 & 1 & 1 \\\\ 1 & 1 & 1 \\\\ 1 & 1 & 1 \\end{pmatrix}$ is used as an example."
      ]
    },
    {
      "cell_type": "code",
      "metadata": {},
      "source": [
        "# Define the matrix A\n",
        "A = np.array([[1, 1, 1], [1, 1, 1], [1, 1, 1]])\n",
        "\n",
        "# Analyse the system\n",
        "analyse_system(A)"
      ],
      "execution_count": 4,
      "outputs": [
        {
          "name": "stdout",
          "output_type": "stream",
          "text": [
            "Eigenvalues and their eigenvectors, respectively:\n",
            "Eigenvalue 1 ((-0+0j)): Multiplicity 1, Eigenvektor 1: Vector(1.0, -0.5, -0.5)\n",
            "Eigenvalue 2 (0j): Multiplicity 1, Eigenvektor 2: Vector(-0.0, 1.0, -1.0)\n",
            "Eigenvalue 3 ((3+0j)): Multiplicity 1, Eigenvektor 3: Vector(1.0, 1.0, 1.0)\n",
            "\n",
            "Homogeneous solution: y_h(t) = c1 Vector(1.0, -0.5, -0.5) exp(-0.0 t) + c2 Vector(-0.0, 1.0, -1.0) exp(0.0 t) + c3 Vector(1.0, 1.0, 1.0) exp(3.0 t)\n",
            "Constants: c1 (real number), c2 (real number), c3 (real number)\n",
            "\n",
            "Stability: The system is unstable.\n"
          ]
        }
      ]
    },
    {
      "cell_type": "markdown",
      "metadata": {},
      "source": [
        "## Inhomogeneous part\n",
        "This is to be done."
      ]
    }
  ],
  "metadata": {},
  "nbformat": 4,
  "nbformat_minor": 1
}
