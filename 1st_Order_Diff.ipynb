{
 "cells": [
  {
   "cell_type": "markdown",
   "metadata": {
    "colab_type": "text"
   },
  "source": [
    "# First order differential equations\n",
    "\n",
    "In the following, we solve the following 1st order inhomogenous differential equation using Python's scipy Library. Let $A\\in \\mathbb{C}^{n \\times n}$ with $n\\in \\mathbb{N}$\n",
    "\n",
    "$\\begin{align}\n",
    "\\frac{\\partial^{n} }{\\partial t^{n} }x(t) = A \\, x(t) + u(t)",
    "\\end{align}$\n",
    "\n",
    "## Homogenous part\n",
    "\n",
    "The following solves the following homogenous part of the equation:\n",
    "\n",
    "$\\begin{align}\n",
    "\\frac{\\partial |\\Psi|^{2}}{\\partial t} + \\text{div} \\, \\textbf{J} = 0 \\\\\n",
    "\n",
    "\\end{align}$ \n",
    "\n",
    "Which was to be shown. \n",
    "\n",
    "## Inhomogenous part\n",
    "This part solves the inhomogenous part of the equation.\n",
    "\n",
    "which was to be shown."
   ]
  }
 ],
 "metadata": {},
 "nbformat": 4,
 "nbformat_minor": 1
}
