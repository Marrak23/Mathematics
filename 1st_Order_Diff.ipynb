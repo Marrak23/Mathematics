{
  "cells": [
    {
      "cell_type": "markdown",
      "metadata": {
        "colab_type": "text"
      },
      "source": [
        "# First order differential equations\n",
        "\n",
        "In the following, we solve the following 1st order inhomogeneous differential equation using Python's scipy Library. Let $A\\in \\mathbb{C}^{n \\times n}$ with $n\\in \\mathbb{N}$\n",
        "\n",
        "$\\begin{align}\n",
        "\\frac{\\partial^{n} }{\\partial t^{n} }x(t) = A \\, x(t) + u(t)",
        "\\end{align}$\n",
        "\n",
        "## Homogeneous part\n",
        "\n",
        "The following equation denotes the homogeneous part of the equation:\n",
        "\n",
        "$\\begin{align}\n",
        "\\frac{\\partial^{n} }{\\partial t^{n} }x(t) = A \\, x(t) \\\\\n",
        "\n",
        "\\end{align}$ \n",
        "\n",
        "And the following code solves it:"
      ]
    },
    {
      "cell_type": "code",
      "metadata": {},
      "source": [
        "# Load the modules\n",
        "import numpy as np\n",
        "from scipy.linalg import eig\n",
        "import sympy as sp"
      ],
      "execution_count": null,
      "outputs": []
    },
    {
      "cell_type": "code",
      "metadata": {},
      "source": [
        "# ---------------- INPUT values ---------------- #\n",
        "# Define the matrix A\n",
        "A = np.array([[-1, 0, 0], [0, -1, 0], [0, 0, -1]])"
      ],
      "execution_count": null,
      "outputs": []
    },
    {
      "cell_type": "code",
      "metadata": {},
      "source": [
        "# Homogeneous Solution\n",
        "def analyse_system(A):\n",
        "    t = sp.symbols('t', real=True)                  # Define symbolic time\n",
        "    eigenvalues, eigenvectors = eig(A, right=True)  # Calculate Eigenvalues and -vectors \n",
        "    \n",
        "    # Adjust eigenvectors to scale the first non-zero element to 1\n",
        "    for i in range(eigenvectors.shape[1]):\n",
        "        vec = eigenvectors[:, i]\n",
        "        non_zero_index = np.nonzero(vec)[0][0]      # Find the first non-zero index\n",
        "        eigenvectors[:, i] /= vec[non_zero_index]   # Scale by the first non-zero element\n",
        "\n",
        "    # Handle multiplicity\n",
        "    unique_eigenvalues, unique_indices, counts = np.unique(eigenvalues, return_index=True, return_counts=True)\n",
        "    \n",
        "    print('Eigenvalues and their eigenvectors, respectively:')\n",
        "    ci_count = 1  # Counter\n",
        "    solution_terms = []\n",
        "    stability = 'stable'\n",
        "    constant_terms = []  # To store constant descriptions\n",
        "    for i, eigenvalue in enumerate(unique_eigenvalues):\n",
        "        multiplicity = counts[i]\n",
        "        lambda_real = round(np.real(eigenvalue), 3)  # Use numpy.round for the real part of eigenvalue\n",
        "        eigenvector = eigenvectors[:, unique_indices[i]]\n",
        "        rounded_eigenvector = tuple(np.round(np.real(v), 3) for v in eigenvector)  # Round every component in the eigenvector\n",
        "\n",
        "        print(f'Egenvalue {i+1} ({np.round(eigenvalue, 3)}): Multiplicity {multiplicity}, Eigenvektor {i+1}: Vector{rounded_eigenvector}')\n",
        "\n",
        "        if lambda_real > 0:\n",
        "            stability = 'unstable'\n",
        "        elif lambda_real == 0:\n",
        "            if stability != 'unstable':\n",
        "                stability = 'stable, but not asymptotically stable'\n",
        "        else:\n",
        "            if stability != 'unstable' and stability != 'stable, but not asymptotically stable':\n",
        "                stability = 'asymptotically stable'\n",
        "\n",
        "        for j in range(multiplicity):\n",
        "            ci = sp.symbols(f'c{ci_count}', real=True)\n",
        "            t_power = f't**{j}' if j > 1 else ('t' if j == 1 else '')\n",
        "            term = f'{ci} * Vector{rounded_eigenvector} * {t_power} * exp({lambda_real} * t)'\n",
        "            term = term.replace(' * ', ' ').strip()\n",
        "            solution_terms.append(term)\n",
        "            constant_terms.append(f'c{ci_count} (real number)')  # Add constant description\n",
        "            ci_count += 1  # Increment counter for each constant\n",
        "\n",
        "    # Output the homogeneous solution\n",
        "    solution_string = ' + '.join(solution_terms).replace('  ', ' ')\n",
        "    constants_description = ', '.join(constant_terms)  # Describe the constants\n",
        "    print(f'Homogeneous solution: y_h(t) = {solution_string}')\n",
        "    print(f'Constants: {constants_description}')  # Print constants as real numbers\n",
        "    print()  # Newline\n",
        "    print(f'Stability: The system is {stability}.')\n",
        "\n",
        "# ---------------- INPUT values ---------------- #\n",
        "# Analyse the system\n",
        "analyse_system(A)"
      ],
      "execution_count": null,
      "outputs": [
        {
          "name": "stdout",
          "output_type": "stream",
          "text": [
            "Eigenvalues and their eigenvectors, respectively: \n",
            "Eigenvalue 1 ((-1+0j)): Multiplicity 3, Eigenvektor 1: Vector(1.0, 0.0, 0.0)\n",
            "\n",
            "Homogeneous solution: y_h(t) = c1 Vector(1.0, 0.0, 0.0) exp(-1.0 t) + c2 Vector(1.0, 0.0, 0.0) t exp(-1.0 t) + c3 Vector(1.0, 0.0, 0.0) t**2 exp(-1.0 t) \n",
            "Constants: c1 (real number), c2 (real number), c3 (real number) \n",
            "\n",
            "Stability: The system is asymptotically stable.\n"
          ]
        }
      ]
    },
    {
      "cell_type": "markdown",
      "metadata": {},
      "source": [
        "## Inhomogeneous part\n",
        "This part solves the inhomogeneous part of the equation.\n",
        "\n",
        "which was to be shown."
      ]
    }
  ],
  "metadata": {},
  "nbformat": 4,
  "nbformat_minor": 1
}
