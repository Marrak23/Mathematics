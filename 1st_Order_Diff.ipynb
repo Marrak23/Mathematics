{
 "cells": [
  {
   "cell_type": "markdown",
   "metadata": {
    "colab_type": "text"
   },
   "source": [
    "# First order differential equations\n",
    "\n",
    "In the following, we solve the following 1st order inhomogenous differential equation using Python's scipy Library. Let $A\\in \\mathbb{C}^{n \\times n}$ with $n\\in \\mathbb{N}$\n",
    "\n",
    "$\\begin{align}\n",
    "\\frac{\\partial^{n} }{\\partial t^{n} }x(t) = A \\, x(t) + u(t)",
    "\\end{align}$\n",
    "\n",
    "## Homogenous part\n",
    "\n",
    "The following equation denotes the homogenous part of the equation:\n",
    "\n",
    "$\\begin{align}\n",
    "\\frac{\\partial^{n} }{\\partial t^{n} }x(t) = A \\, x(t) \\\\\n",
    "\n",
    "\\end{align}$ \n",
    "\n",
    "And the following code solves it:\n"
   ]
  },
  {
   "cell_type": "code",
   "metadata": {},
   "source": [
    "# Homogenous Solution\n",
    "\n",
    "import numpy as np\n",
    "from scipy.linalg import eig\n",
    "import sympy as sp\n",
    "\n",
    "# ---------------- INPUT values ---------------- #\n",
    "\n",
    "# Define the matrix A\n",
    "A = np.array([[-1, 0, 0], [0, -1, 0], [0, 0, -1]])\n",
    "\n",
    "# ---------------- INPUT values ---------------- #\n",
    "\n",
    "def analyse_system(A):\n",
    "    t = sp.symbols('t', real=True)\n",
    "    eigenvalues, eigenvectors = eig(A, right=True)\n",
    "    for i in range(eigenvectors.shape[1]):\n",
    "        vec = eigenvectors[:, i]\n",
    "        non_zero_index = np.nonzero(vec)[0][0]\n",
    "        eigenvectors[:, i] /= vec[non_zero_index]\n",
    "    unique_values, indices, counts = np.unique(eigenvalues, return_index=True, return_counts=True)\n",
    "    print('Eigenvalues and their eigenvectors, respectively:')\n",
    "    for i, value in enumerate(unique_values):\n",
    "        print(f'Eigenvalue {i+1}: {value}, Eigenvector {i+1}: {eigenvectors[:, indices[i]]}')\n",
    "\n",
    "# Analyse the system\n",
    "analyse_system(A)\n"
   ],
   "execution_count": null,
   "outputs": [
    {
     "name": "stdout",
     "output_type": "stream",
     "text": [
      "Eigenvalues and their eigenvectors, respectively:\\n",
      "Eigenvalue 1: (-1+0j), Eigenvector 1: [1. 0. 0.]\\n",
      "Eigenvalue 2: (-1+0j), Eigenvector 2: [0. 1. 0.]\\n",
      "Eigenvalue 3: (-1+0j), Eigenvector 3: [0. 0. 1.]\\n"
     ]
    },
    {
   "cell_type": "markdown",
   "metadata": {
    "colab_type": "text"
   },
   "source": [
    "## Inhomogenous part\n",
    "This part solves the inhomogenous part of the equation.\n",
    "\n",
    "which was to be shown."
   ]
  }
 ],
 "metadata": {},
 "nbformat": 4,
 "nbformat_minor": 1
}
