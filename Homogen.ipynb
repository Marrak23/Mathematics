{
 "cells": [
  {
   "cell_type": "code",
   "execution_count": 1,
   "metadata": {},
   "outputs": [],
   "source": [
    "import numpy as np\n",
    "from scipy.linalg import eig\n",
    "import sympy as sp"
   ]
  },
  {
   "cell_type": "code",
   "execution_count": 2,
   "metadata": {},
   "outputs": [],
   "source": [
    "def analyse_system(A):\n",
    "    t = sp.symbols('t', real=True)                  # Define symbolic time\n",
    "    eigenvalues, eigenvectors = eig(A, right=True)  # Calculate Eigenvalues and -vectors\n",
    "\n",
    "    # Adjust eigenvectors to scale the first non-zero element to 1\n",
    "    for i in range(eigenvectors.shape[1]):\n",
    "        vec = eigenvectors[:, i]\n",
    "        non_zero_index = np.nonzero(vec)[0][0]      # Find the first non-zero index\n",
    "        eigenvectors[:, i] /= vec[non_zero_index]   # Scale by the first non-zero element\n",
    "\n",
    "    # Handle multiplicity\n",
    "    unique_eigenvalues, unique_indices, Total = np.unique(eigenvalues, return_index=True, return_counts=True)\n",
    "\n",
    "    print(\"Eigenvalues and their eigenvectors, respectively:\")\n",
    "    ci_count = 1  # Counter for constants\n",
    "    Solution_terms = []\n",
    "    stability = \"stable\"\n",
    "    constant_terms = []  # To store constant descriptions\n",
    "    for i, eigenvalue in enumerate(unique_eigenvalues):\n",
    "        multiplicity = Total[i]\n",
    "        lambda_real = round(np.real(eigenvalue), 3)  # Real part of the eigenvalue\n",
    "        lambda_imag = round(np.imag(eigenvalue), 3)  # Imaginary part of the eigenvalue\n",
    "        eigenvector = eigenvectors[:, unique_indices[i]]\n",
    "        Rounded_eigenvector = tuple(np.round(np.real(v), 3) for v in eigenvector)  # Round each component\n",
    "\n",
    "        print(f\"Eigenvalue {i+1} ({np.round(eigenvalue, 3)}): Multiplicity {multiplicity}, Eigenvector {i+1}: Vector {Rounded_eigenvector}\")\n",
    "\n",
    "        if lambda_real > 0:\n",
    "            stability = \"unstable\"\n",
    "        elif lambda_real == 0:\n",
    "            if stability != \"unstable\":\n",
    "                stability = \"stable, but not asymptotically stable\"\n",
    "        else:\n",
    "            if stability != \"unstable\" and stability != \"stable, but not asymptotically stable\":\n",
    "                stability = \"asymptotically stable\"\n",
    "\n",
    "        # Generate terms for the homogeneous solution\n",
    "        for j in range(multiplicity):\n",
    "            ci = sp.symbols(f'c{ci_count}', real=True)\n",
    "            # Handle t power formatting\n",
    "            if j > 1:\n",
    "                t_potens = f\"t**{j}\"\n",
    "            elif j == 1:\n",
    "                t_potens = \"t\"\n",
    "            else:\n",
    "                t_potens = \"\"\n",
    "\n",
    "            # Form the homogeneous solution term for different cases\n",
    "            if lambda_imag == 0:  # Real eigenvalue case\n",
    "                term = f\"{ci} * Vektor{Rounded_eigenvector} {t_potens}\".strip()\n",
    "                if lambda_real != 0:  # Include the exponential term if lambda_real is non-zero\n",
    "                    if lambda_real == 1:  # Format as exp(t)\n",
    "                        exp_term = \"exp(t)\"\n",
    "                    elif lambda_real == -1:  # Format as exp(-t)\n",
    "                        exp_term = \"exp(-t)\"\n",
    "                    else:\n",
    "                        exp_term = f\"exp({lambda_real} * t)\"\n",
    "                    term += f\" * {exp_term}\"\n",
    "            else:  # Complex eigenvalue case\n",
    "                omega = abs(lambda_imag)\n",
    "                # Format the cosine term properly for 1 or -1 cases\n",
    "                if omega == 1:\n",
    "                    cos_term = \"cos(t)\"\n",
    "                elif omega == -1:\n",
    "                    cos_term = \"cos(-t)\"\n",
    "                else:\n",
    "                    cos_term = f\"cos({omega} * t)\"\n",
    "                \n",
    "                # Always include the exponential term for the real part of the eigenvalue\n",
    "                if lambda_real != 0:\n",
    "                    if lambda_real == 1:  # Format as exp(t)\n",
    "                        exp_term = \"exp(t)\"\n",
    "                    elif lambda_real == -1:  # Format as exp(-t)\n",
    "                        exp_term = \"exp(-t)\"\n",
    "                    else:\n",
    "                        exp_term = f\"exp({lambda_real} * t)\"\n",
    "                    term = f\"{ci} * Vektor{Rounded_eigenvector} {t_potens} * {exp_term} * {cos_term}\".strip()\n",
    "                else:\n",
    "                    term = f\"{ci} * Vektor{Rounded_eigenvector} {t_potens} * {cos_term}\".strip()\n",
    "\n",
    "            # Clean up formatting (remove redundant spaces, handle 1.0 coefficients)\n",
    "            term = term.replace(\" 1.0 \", \" \").replace(\" -1.0 \", \"-\").replace(\" * \", \" \").strip()\n",
    "            Solution_terms.append(term)\n",
    "            constant_terms.append(f\"c{ci_count} (real number)\")  # Add constant description\n",
    "            ci_count += 1  # Increment counter per iteration\n",
    "\n",
    "    print()  # Newline\n",
    "    # Output the homogeneous solution\n",
    "    solution_string = \" + \".join(Solution_terms).replace(\"  \", \" \")\n",
    "    constants_description = \", \".join(constant_terms)  # Describe the constants\n",
    "    print(f\"Homogeneous solution: y_h(t) = {solution_string}\")\n",
    "    print(f\"Constants: {constants_description}\")  # Print constants as real numbers\n",
    "    print()  # Newline\n",
    "    print(f\"Stability: The system is {stability}.\")\n"
   ]
  },
  {
   "cell_type": "code",
   "execution_count": 3,
   "metadata": {},
   "outputs": [
    {
     "name": "stdout",
     "output_type": "stream",
     "text": [
      "Eigenvalues and their eigenvectors, respectively:\n",
      "Eigenvalue 1 (1j): Multiplicity 1, Eigenvector 1: Vector (0.0, 1.0, 0.0)\n",
      "Eigenvalue 2 ((1+1j)): Multiplicity 2, Eigenvector 2: Vector (1.0, 0.0, 0.0)\n",
      "\n",
      "Homogeneous solution: y_h(t) = c1 Vektor(0.0, 1.0, 0.0) cos(t) + c2 Vektor(1.0, 0.0, 0.0) exp(t) cos(t) + c3 Vektor(1.0, 0.0, 0.0) t exp(t) cos(t)\n",
      "Constants: c1 (real number), c2 (real number), c3 (real number)\n",
      "\n",
      "Stability: The system is unstable.\n"
     ]
    }
   ],
   "source": [
    "# Define the matrix A with a complex eigenvalue\n",
    "A = np.array([[1 + 1j, 0, 0], [0, 1j, 0], [0, 0, 1 + 1j]])\n",
    "analyse_system(A)"
   ]
  }
 ],
 "metadata": {
  "kernelspec": {
   "display_name": "Python 3.12.2 64-bit",
   "language": "python",
   "name": "python3"
  },
  "language_info": {
   "codemirror_mode": {
    "name": "ipython",
    "version": 3
   },
   "file_extension": ".py",
   "mimetype": "text/x-python",
   "name": "python",
   "nbconvert_exporter": "python",
   "pygments_lexer": "ipython3",
   "version": "3.12.2"
  },
  "orig_nbformat": 4,
  "vscode": {
   "interpreter": {
    "hash": "aee8b7b246df8f9039afb4144a1f6fd8d2ca17a180786b69acc140d282b71a49"
   }
  }
 },
 "nbformat": 4,
 "nbformat_minor": 2
}
